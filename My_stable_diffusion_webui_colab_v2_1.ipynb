{
  "cells": [
    {
      "cell_type": "markdown",
      "metadata": {
        "id": "view-in-github",
        "colab_type": "text"
      },
      "source": [
        "<a href=\"https://colab.research.google.com/github/blueball81/SD-webui/blob/main/My_stable_diffusion_webui_colab_v2_1.ipynb\" target=\"_parent\"><img src=\"https://colab.research.google.com/assets/colab-badge.svg\" alt=\"Open In Colab\"/></a>"
      ]
    },
    {
      "cell_type": "markdown",
      "source": [
        "Mount GDrive, and Prepare base folder for SD\n"
      ],
      "metadata": {
        "id": "yOMvHhmd_LcZ"
      }
    },
    {
      "cell_type": "code",
      "execution_count": null,
      "metadata": {
        "id": "SaAJk33ppFw1"
      },
      "outputs": [],
      "source": [
        "from google.colab import drive\n",
        "drive.mount('/content/drive')\n",
        "\n",
        "#download SD webui on colab\n",
        "!git clone -b v2.0 https://github.com/camenduru/stable-diffusion-webui\n",
        "\n",
        "!apt-get -y install -qq aria2\n",
        "!pip install -q https://github.com/camenduru/stable-diffusion-webui-colab/releases/download/0.0.16/xformers-0.0.16+814314d.d20230118-cp38-cp38-linux_x86_64.whl\n",
        "!pip install -q --pre triton\n",
        "#!pip install -U tensorflow==2.9.2\n",
        "#!pip install fastapi==0.90.1\n",
        "\n"
      ]
    },
    {
      "cell_type": "code",
      "source": [
        "#prep Gdrive: download CP, extensions, scripts, etc\n",
        "\n",
        "### script (download on colab)\n",
        "!wget -q https://raw.githubusercontent.com/camenduru/stable-diffusion-webui-scripts/main/run_n_times.py -O /content/stable-diffusion-webui/scripts/run_n_times.py\n",
        "\n",
        "### extensions (download on Gdrive and copy)\n",
        "#%cd /contents/stable-diffusion-webui/extensions\n",
        "\n",
        "#!git clone https://github.com/deforum-art/deforum-for-automatic1111-webui /content/stable-diffusion-webui/extensions/deforum-for-automatic1111-webui\n",
        "!git clone https://github.com/AlUlkesh/stable-diffusion-webui-images-browser /content/stable-diffusion-webui/extensions/stable-diffusion-webui-images-browser\n",
        "#!git clone https://github.com/camenduru/stable-diffusion-webui-huggingface /content/stable-diffusion-webui/extensions/stable-diffusion-webui-huggingface\n",
        "!git clone -b v2.0 https://github.com/camenduru/sd-civitai-browser /content/stable-diffusion-webui/extensions/sd-civitai-browser\n",
        "!git clone https://github.com/kohya-ss/sd-webui-additional-networks /content/stable-diffusion-webui/extensions/sd-webui-additional-networks\n",
        "!git clone https://github.com/adieyal/sd-dynamic-prompts /content/stable-diffusion-webui/extensions/sd-dynamic-prompts\n",
        "!git clone https://github.com/Mikubill/sd-webui-controlnet /content/stable-diffusion-webui/extensions/sd-webui-controlnet\n",
        "\n",
        "dir_cnet_model =\"\"\n",
        "#!aria2c --console-log-level=error -c -x 16 -s 16 -k 1M https://huggingface.co/lllyasviel/ControlNet/resolve/main/models/control_sd15_scribble.pth -d /content/stable-diffusion-webui/extensions/sd-webui-controlnet/models/ -o controlnet_sd15_scribble.pth \n",
        "#!aria2c --console-log-level=error -c -x 16 -s 16 -k 1M https://huggingface.co/lllyasviel/ControlNet/resolve/main/models/control_sd15_openpose.pth -d /content/stable-diffusion-webui/extensions/sd-webui-controlnet/models/ -o controlnet_sd15_openpose.pth \n",
        "!aria2c --console-log-level=error -c -x 16 -s 16 -k 1M https://huggingface.co/webui/ControlNet-modules-safetensors/resolve/main/control_normal-fp16.safetensors -d /content/drive/MyDrive/SD-webui/models/ControlNet -o control_normal-fp16.safetensors\n",
        "!aria2c --console-log-level=error -c -x 16 -s 16 -k 1M https://huggingface.co/webui/ControlNet-modules-safetensors/resolve/main/control_openpose-fp16.safetensors -d /content/drive/MyDrive/SD-webui/models/ControlNet -o control_openpose-fp16.safetensors\n",
        "\n",
        "\n",
        "#extension 은 심볼릭으로 Gradio 에서 비정상 동작해서 복사로 대응\n",
        "#!cp -rf /content/drive/MyDrive/SD-webui/extensions/* /content/stable-diffusion-webui/extensions/\n",
        "\n",
        "### model 과 repository 는 symbolic으로 대응 (link from Gdrive to Colab) \n",
        "!rm -f /content/stable-diffusion-webui/params.txt\n",
        "!ln -sf /content/drive/MyDrive/SD-webui/params.txt /content/stable-diffusion-webui/params.txt\n",
        "\n",
        "!ln -sf /content/drive/MyDrive/SD-webui/repositories /content/stable-diffusion-webui/repositories\n",
        "\n",
        "!rm -rf /content/stable-diffusion-webui/models\n",
        "!ln -sf /content/drive/MyDrive/SD-webui/models /content/stable-diffusion-webui/models\n",
        "\n",
        "!rm -rf /content/stable-diffusion-webui/embeddings\n",
        "!ln -sf /content/drive/MyDrive/SD-webui/embeddings /content/stable-diffusion-webui/embeddings\n",
        "\n",
        "\n"
      ],
      "metadata": {
        "id": "uqbXXahVRlJD"
      },
      "execution_count": null,
      "outputs": []
    },
    {
      "cell_type": "code",
      "source": [
        "#run with configs only on Gdrive  \n",
        "%cd /content/stable-diffusion-webui\n",
        "\n",
        "# 검색 조건에 $ 붙여야 함\n",
        "#!sed -i -e '''/prepare_environment()/a\\    os.system\\(f\\\"\"\"sed -i -e ''\\\"s/dict()))$/dict())).cuda()/g\\\"'' /content/stable-diffusion-webui/repositories/stable-diffusion-stability-ai/ldm/util.py\"\"\")''' /content/stable-diffusion-webui/launch.py\n",
        "!sed -i -e '''/prepare_environment()/a\\    os.system\\(f\\\"\"\"sed -i -e ''\\\"s/dict()))$/dict())).cuda()/g\\\"'' /content/stable-diffusion-webui/repositories/stable-diffusion-stability-ai/ldm/util.py\"\"\")''' /content/stable-diffusion-webui/launch.py\n",
        "\n",
        "\n",
        "#!python launch.py --share --xformers --enable-insecure-extension-access --gradio-queue --config /content/drive/MyDrive/SD-webui/configs/v1-inference.yaml --ckpt-dir /content/drive/MyDrive/SD-webui/models/Stable-diffusion --vae-dir /content/drive/MyDrive/SD-webui/models/VAE --lora-dir /content/drive/MyDrive/SD-webui/models/Lora --embeddings-dir /content/drive/MyDrive/SD-webui/embeddings --styles-file /content/drive/MyDrive/SD-webui/styles.csv --ui-config-file /content/drive/MyDrive/SD-webui/ui-config.json --ui-settings-file /content/drive/MyDrive/SD-webui/config.json\n",
        "!python launch.py --ngrok 2Lp0OddUyRyq7pseMA8JBW7imNX_5YvYuQRpxPLUsBgrN2a6X --xformers --enable-insecure-extension-access --theme dark --config /content/drive/MyDrive/SD-webui/configs/v1-inference.yaml --styles-file /content/drive/MyDrive/SD-webui/styles.csv --ui-config-file /content/drive/MyDrive/SD-webui/ui-config.json --ui-settings-file /content/drive/MyDrive/SD-webui/config.json\n",
        "\n",
        "\n",
        "\n"
      ],
      "metadata": {
        "id": "6zDLOu94my1K"
      },
      "execution_count": null,
      "outputs": []
    },
    {
      "cell_type": "code",
      "source": [
        "############# end of run\n",
        "\n",
        "\n",
        "\n",
        "\n",
        "\n",
        "\n",
        "\n",
        "\n",
        "\n",
        "\n",
        "\n",
        "\n",
        "%ls -al /content/stable-diffusion-webui/extensions/sd-webui-controlnet/models/\n",
        "\n",
        "#copy downloaded model from colab to Gdrive\n",
        "#!rsync -r -u /content/stable-diffusion-webui/params.txt /content/drive/MyDrive/SD-webui/\n",
        "#!rsync --progress -r -u --remove-source-files /content/stable-diffusion-webui/models/* /content/drive/MyDrive/SD-webui/models/\n",
        "#!rsync --progress -r -u --remove-source-files /content/stable-diffusion-webui/embeddings/* /content/drive/MyDrive/SD-webui/embeddings/\n",
        "\n",
        "\n",
        "\n",
        "\n"
      ],
      "metadata": {
        "id": "PFCkayF_pSKn"
      },
      "execution_count": null,
      "outputs": []
    },
    {
      "cell_type": "code",
      "source": [],
      "metadata": {
        "id": "MNVgwf_M9TYd"
      },
      "execution_count": null,
      "outputs": []
    },
    {
      "cell_type": "code",
      "source": [
        "\n",
        "Realistic\n",
        "\n",
        "ChllioutMix @ civitai: https://huggingface.co/TASUKU2023/Chilloutmix/resolve/main/Chilloutmix-Ni.safetensors\n",
        "AbyssOrangeMix2: https://huggingface.co/WarriorMama777/OrangeMixs/resolve/main/Models/AbyssOrangeMix2/AbyssOrangeMix2_sfw.safetensors\n",
        "Basilmix: https://huggingface.co/nuigurumi/basil_mix/resolve/main/Basil%20mix.safetensors\n",
        "2.5D\n",
        "\n",
        "Sunshinemix @ civitai\n",
        "Dreamlike https://huggingface.co/dreamlike-art/dreamlike-diffusion-1.0/resolve/main/dreamlike-diffusion-1.0.safetensors\n",
        "Ani\n",
        "\n",
        "Textual Inversion\n",
        "\n",
        "VAE (Variable AutoEncoder)\n",
        "\n",
        "LoRA (Low Rank Adaptaion of Large Language Models)\n",
        "\n",
        "koreanDollLikeness\n",
        "taiwanDollLikeness\n",
        "\n",
        "\n",
        "# Model_Checkpoints\n",
        "#%cd /content/drive/MyDrive/SD-webui/models/\n",
        "#!aria2c --console-log-level=error -c -x 16 -s 16 -k 1M https://huggingface.co/ckpt/sd14/resolve/main/sd-v1-5.ckpt -d /content/stable-diffusion-webui/models/Stable-diffusion -o sd-v1-5.ckpt\n",
        "\n",
        "#!aria2c --console-log-level=error -c -x 16 -s 16 -k 1M https://huggingface.co/WarriorMama777/OrangeMixs/resolve/main/Models/AbyssOrangeMix2/AbyssOrangeMix2_sfw.safetensors --content-disposition -O /content/drive/MyDrive/stable-diffusion-webui/models/Stable-diffusion/AbyssOrangeMix2_sfw.safetensors\n",
        "#!aria2c --console-log-level=error -c -x 16 -s 16 -k 1M https://huggingface.co/nuigurumi/basil_mix/resolve/main/Basil%20mix.safetensors -O /content/drive/MyDrive/stable-diffusion-webui/models/Stable-diffusion/Basil%20mix.safetensors\n",
        "#!aria2c --console-log-level=error -c -x 16 -s 16 -k 1M https://huggingface.co/dreamlike-art/dreamlike-diffusion-1.0/resolve/main/dreamlike-diffusion-1.0.safetensors -O /content/drive/MyDrive/stable-diffusion-webui/models/Stable-diffusion/dreamlike-diffusion-1.0.safetensors\n",
        "#!aria2c --console-log-level=error -c -x 16 -s 16 -k 1M https://huggingface.co/TASUKU2023/Chilloutmix/resolve/main/Chilloutmix-Ni.safetensors -O /content/drive/MyDrive/stable-diffusion-webui/models/Stable-diffusion/Chilloutmix-Ni.safetensors\n",
        "\n",
        "\n",
        "\n",
        "# Model_Lora\n",
        "#%cd /content/drive/MyDrive/SD-webui/models/Lora\n",
        "#!wget -N https://civitai.com/api/download/models/9070 -O /content/drive/MyDrive/stable-diffusion-webui/models/Lora/taiwanDollLikeness_v10.safetensors\n"
      ],
      "metadata": {
        "id": "1COl_kEr7Q_2"
      },
      "execution_count": null,
      "outputs": []
    },
    {
      "cell_type": "markdown",
      "source": [
        "\n",
        "\n",
        "list to download\n",
        "\n",
        "\n",
        "extensions (need to be runnable)\n",
        "\n",
        "\n",
        "CheckPoints (Models)\n",
        "\n",
        "# \n",
        "\n",
        "* Realistic\n",
        " * ChillioutMix @ civitai: https://huggingface.co/TASUKU2023/Chilloutmix/resolve/main/Chilloutmix-Ni.safetensors\n",
        " - AbyssOrangeMix2: https://huggingface.co/WarriorMama777/OrangeMixs/resolve/main/Models/AbyssOrangeMix2/AbyssOrangeMix2_sfw.safetensors \n",
        " * Basilmix: https://huggingface.co/nuigurumi/basil_mix/resolve/main/Basil%20mix.safetensors\n",
        "* 2.5D\n",
        " - Sunshinemix @ civitai\n",
        " - Dreamlike\n",
        " https://huggingface.co/dreamlike-art/dreamlike-diffusion-1.0/resolve/main/dreamlike-diffusion-1.0.safetensors\n",
        " - \n",
        "\n",
        "* Ani\n",
        "\n",
        "\n",
        "* Textual Inversion\n",
        "\n",
        "* VAE (Variable AutoEncoder)\n",
        "\n",
        "* LoRA (Low Rank Adaptaion of Large Language Models)\n",
        " - koreanDollLikeness\n",
        " - taiwanDollLikeness\n",
        "\n",
        "repositories (wiill be prep by launch.py)\n",
        "\n",
        "\n",
        "\n"
      ],
      "metadata": {
        "id": "fPhs3CKqAtke"
      }
    },
    {
      "cell_type": "code",
      "source": [
        "#rsync downloaded model from colab to Gdrive\n",
        "!rsync -r -u /content/stable-diffusion-webui/params.txt /content/drive/MyDrive/SD-webui/\n",
        "!rsync --progress -r -u /content/stable-diffusion-webui/models/ /content/drive/MyDrive/SD-webui/models/\n",
        "!rsync --progress -r -u /content/stable-diffusion-webui/embeddings/ /content/drive/MyDrive/SD-webui/embeddings/\n",
        "\n",
        "#!rsync --progress -r -u /content/stable-diffusion-webui/extensions/ /content/drive/MyDrive/SD-webui/extensions/\n",
        "#!rsync --progress -r -u /content/stable-diffusion-webui/repositories/ /content/drive/MyDrive/SD-webui/repositories/\n",
        "\n"
      ],
      "metadata": {
        "id": "4dykL-1xL0N6"
      },
      "execution_count": null,
      "outputs": []
    },
    {
      "cell_type": "code",
      "source": [
        "#run on GDrive\n",
        "#gradio will not allow run extensions out of hosting folder\n",
        "\n",
        "!git clone https://github.com/deforum-art/deforum-for-automatic1111-webui /content/drive/MyDrive/SD-webui/extensions/deforum-for-automatic1111-webui\n",
        "!git clone https://github.com/AlUlkesh/stable-diffusion-webui-images-browser /content/drive/MyDrive/SD-webui/extensions/stable-diffusion-webui-images-browser\n",
        "!git clone https://github.com/camenduru/stable-diffusion-webui-huggingface /content/drive/MyDrive/SD-webui/extensions/stable-diffusion-webui-huggingface\n",
        "!git clone https://github.com/camenduru/sd-civitai-browser /content/drive/MyDrive/SD-webui/extensions/sd-civitai-browser\n",
        "!git clone https://github.com/kohya-ss/sd-webui-additional-networks /content/drive/MyDrive/SD-webui/extensions/sd-webui-additional-networks\n",
        "\n",
        "%cd /content/stable-diffusion-webui\n",
        "\n",
        "!python launch.py --share --xformers --enable-insecure-extension-access --gradio-queue --data-dir /content/drive/MyDrive/SD-webui\n"
      ],
      "metadata": {
        "id": "iU5_mnnfILS9"
      },
      "execution_count": null,
      "outputs": []
    },
    {
      "cell_type": "code",
      "source": [
        "%cd /content\n",
        "\n",
        "# install torch with CUDA support. See https://pytorch.org/get-started/locally/ for more instructions if this fails.\n",
        "!pip install torch --extra-index-url https://download.pytorch.org/whl/cu113\n",
        "\n",
        "# check if torch supports GPU; this must output \"True\". You need CUDA 11. installed for this. You might be able to use\n",
        "# a different version, but this is what I tested.\n",
        "!python -c \"import torch; print(torch.cuda.is_available())\"\n",
        "\n",
        "# clone web ui and go into its directory\n",
        "!git clone https://github.com/AUTOMATIC1111/stable-diffusion-webui.git\n",
        "!wget https://raw.githubusercontent.com/camenduru/stable-diffusion-webui-scripts/main/run_n_times.py -O /content/stable-diffusion-webui/scripts/run_n_times.py\n",
        "\n",
        "%cd stable-diffusion-webui\n",
        "# clone repositories for Stable Diffusion and (optionally) CodeFormer\n",
        "!mkdir repositories\n",
        "!git clone https://github.com/CompVis/stable-diffusion.git repositories/stable-diffusion\n",
        "!git clone https://github.com/CompVis/taming-transformers.git repositories/taming-transformers\n",
        "!git clone https://github.com/sczhou/CodeFormer.git repositories/CodeFormer\n",
        "!git clone https://github.com/salesforce/BLIP.git repositories/BLIP\n",
        "\n",
        "# install requirements of Stable Diffusion\n",
        "!pip install transformers==4.19.2 diffusers invisible-watermark --prefer-binary\n",
        "\n",
        "# install k-diffusion\n",
        "!pip install git+https://github.com/crowsonkb/k-diffusion.git --prefer-binary\n",
        "\n",
        "# (optional) install GFPGAN (face restoration)\n",
        "#!pip install git+https://github.com/TencentARC/GFPGAN.git --prefer-binary\n",
        "\n",
        "# (optional) install requirements for CodeFormer (face restoration)\n",
        "#!pip install -r repositories/CodeFormer/requirements.txt --prefer-binary\n",
        "\n",
        "# install requirements of web ui\n",
        "!pip install -r requirements.txt  --prefer-binary\n",
        "\n",
        "# update numpy to latest version\n",
        "!pip install -U numpy  --prefer-binary\n",
        "\n",
        "\n"
      ],
      "metadata": {
        "id": "vkT338UKrsJW"
      },
      "execution_count": null,
      "outputs": []
    },
    {
      "cell_type": "code",
      "source": [
        "#install extensions\n",
        "!git clone https://github.com/deforum-art/deforum-for-automatic1111-webui /content/stable-diffusion-webui/extensions/deforum-for-automatic1111-webui\n",
        "!git clone https://github.com/AlUlkesh/stable-diffusion-webui-images-browser /content/stable-diffusion-webui/extensions/stable-diffusion-webui-images-browser\n",
        "!git clone https://github.com/camenduru/stable-diffusion-webui-huggingface /content/stable-diffusion-webui/extensions/stable-diffusion-webui-huggingface\n",
        "!git clone https://github.com/camenduru/sd-civitai-browser /content/stable-diffusion-webui/extensions/sd-civitai-browser\n",
        "!git clone https://github.com/kohya-ss/sd-webui-additional-networks /content/stable-diffusion-webui/extensions/sd-webui-additional-networks\n"
      ],
      "metadata": {
        "id": "Cj7jfNf7r1t5"
      },
      "execution_count": null,
      "outputs": []
    },
    {
      "cell_type": "code",
      "source": [
        "# launch with gdrive folder\n",
        "%cd /content/stable-diffusion-webui\n",
        "\n",
        "\n",
        "#!python webui.py --share --xformers --enable-insecure-extension-access --gradio-queue --data-dir /content/drive/MyDrive/SD-webui\n",
        "\n",
        "#!set COMMANDLINE_ARGS = --config /content/drive/MyDrive/SD-webui/configs/v1-inference.yaml --ckpt-dir /content/drive/MyDrive/SD-webui/models/Stable-diffusion --vae-dir /content/drive/MyDrive/SD-webui/models/VAE --lora-dir /content/drive/MyDrive/SD-webui/models/Lora --embeddings-dir /content/drive/MyDrive/SD-webui/embeddings --styles-file /content/drive/MyDrive/SD-webui/styles.csv --ui-config-file /content/drive/MyDrive/SD-webui/ui-config.json --ui-settings-file /content/drive/MyDrive/SD-webui/config.json\n",
        "\n",
        "!python webui.py --share --xformers --enable-insecure-extension-access --gradio-queue --ckpt-dir /content/drive/MyDrive/SD-webui/models/Stable-diffusion --vae-dir /content/drive/MyDrive/SD-webui/models/VAE --lora-dir /content/drive/MyDrive/SD-webui/models/Lora --embeddings-dir /content/drive/MyDrive/SD-webui/embeddings --styles-file /content/drive/MyDrive/SD-webui/styles.csv --ui-config-file /content/drive/MyDrive/SD-webui/ui-config.json --ui-settings-file /content/drive/MyDrive/SD-webui/config.json\n",
        "\n",
        "\n"
      ],
      "metadata": {
        "id": "AB5owWeEUUxy"
      },
      "execution_count": null,
      "outputs": []
    },
    {
      "cell_type": "code",
      "source": [
        "# download models and so on\n",
        "%cd /content/stable-diffusion-webui\n",
        "!aria2c --console-log-level=error -c -x 16 -s 16 -k 1M https://huggingface.co/nuigurumi/basil_mix/resolve/main/Basil_mix_fixed.safetensors -d /content/stable-diffusion-webui/models/Stable-diffusion -o Basil_mix_fixed.safetensors\n",
        "!aria2c --console-log-level=error -c -x 16 -s 16 -k 1M https://huggingface.co/TASUKU2023/Chilloutmix/resolve/main/Chilloutmix-Ni.safetensors -d /content/stable-diffusion-webui/models/Stable-diffusion -o Chilloutmix-Ni.safetensors\n",
        "!aria2c --console-log-level=error -c -x 16 -s 16 -k 1M https://huggingface.co/TASUKU2023/Chilloutmix/resolve/main/Chilloutmix.safetensors -d /content/stable-diffusion-webui/models/Stable-diffusion -o Chilloutmix.safetensors\n",
        "!aria2c --console-log-level=error -c -x 16 -s 16 -k 1M https://huggingface.co/stabilityai/sd-vae-ft-mse-original/resolve/main/vae-ft-mse-840000-ema-pruned.safetensors -d /content/stable-diffusion-webui/models/VAE -o vae-ft-mse-840000-ema-pruned.safetensors\n",
        "\n",
        "\n",
        "!aria2c --console-log-level=error -c -x 16 -s 16 -k 1M https://civitai.com/api/download/models/8750 -d /content/stable-diffusion-webui/models/Lora -o koreanDollLikeness_v10.safetensors\n",
        "!aria2c --console-log-level=error -c -x 16 -s 16 -k 1M https://moritz.pm/files/ulzzang-6500.pt -d /content/stable-diffusion-webui/embeddings -o ulzzang-6500.pt\n",
        "!aria2c --console-log-level=error -c -x 16 -s 16 -k 1M https://civitai.com/api/download/models/5119 -d /content/stable-diffusion-webui/embeddings -o PureErosFace_V1.pt\n",
        "!aria2c --console-log-level=error -c -x 16 -s 16 -k 1M https://huggingface.co/datasets/gsdf/EasyNegative/resolve/main/EasyNegative.pt -d /content/stable-diffusion-webui/embeddings -o EasyNegative.pt\n",
        "\n",
        "\n",
        "!aria2c --console-log-level=error -c -x 16 -s 16 -k 1M https://huggingface.co/ckpt/ControlNet/resolve/main/control_sd15_openpose.pth -d /content/stable-diffusion-webui/extensions/sd-webui-controlnet/models -o control_sd15_openpose.pth\n",
        "!aria2c --console-log-level=error -c -x 16 -s 16 -k 1M https://huggingface.co/ckpt/ControlNet/resolve/main/hand_pose_model.pth -d /content/stable-diffusion-webui/extensions/sd-webui-controlnet/annotator/openpose -o hand_pose_model.pth\n",
        "!aria2c --console-log-level=error -c -x 16 -s 16 -k 1M https://huggingface.co/ckpt/ControlNet/resolve/main/body_pose_model.pth -d /content/stable-diffusion-webui/extensions/sd-webui-controlnet/annotator/openpose -o body_pose_model.pth\n",
        "!aria2c --console-log-level=error -c -x 16 -s 16 -k 1M https://huggingface.co/ckpt/mo-di-diffusion/resolve/main/moDi-v1-pruned.ckpt -d /content/stable-diffusion-webui/models/Stable-diffusion -o moDi-v1-pruned.ckpt\n",
        "\n",
        "\n",
        "# change settings\n",
        "!sed -i -e 's/\"quicksettings\": \"sd_model_checkpoint\",/\"quicksettings\": \"sd_model_checkpoint,CLIP_stop_at_last_layers,sd_vae\",/' /content/stable-diffusion-webui/config.json\n",
        "!sed -i -e '''/prepare_environment()/a\\    os.system\\(f\\\"\"\"sed -i -e ''\\\"s/self.logvar\\\\[t\\\\]/self.logvar\\\\[t.item()\\\\]/g\\\"'' /content/stable-diffusion-webui/repositories/stable-diffusion-stability-ai/ldm/models/diffusion/ddpm.py\"\"\")''' /content/stable-diffusion-webui/launch.py\n",
        "!sed -i -e '''/prepare_environment()/a\\    os.system\\(f\\\"\"\"sed -i -e ''\\\"s/dict()))/dict())).cuda()/g\\\"'' /content/stable-diffusion-webui/repositories/stable-diffusion-stability-ai/ldm/util.py\"\"\")''' /content/stable-diffusion-webui/launch.py\n",
        "!sed -i '$a fastapi==0.90.1' requirements_versions.txt\n"
      ],
      "metadata": {
        "id": "o2ay_Y3xpSOu"
      },
      "execution_count": null,
      "outputs": []
    }
  ],
  "metadata": {
    "accelerator": "GPU",
    "colab": {
      "private_outputs": true,
      "provenance": [],
      "include_colab_link": true
    },
    "gpuClass": "standard",
    "kernelspec": {
      "display_name": "Python 3",
      "name": "python3"
    },
    "language_info": {
      "name": "python"
    }
  },
  "nbformat": 4,
  "nbformat_minor": 0
}